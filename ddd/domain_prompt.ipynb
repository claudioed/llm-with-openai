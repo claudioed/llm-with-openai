{
 "cells": [
  {
   "cell_type": "markdown",
   "source": [
    "## Prompt for DDD pratictioners\n",
    "Welcome to the Domain-Driven Design Structure Generator!  \n",
    "This tool will help you generate a DDD structure for your desired context."
   ],
   "metadata": {
    "collapsed": false
   },
   "id": "7b9e0fcefc4cd4a4"
  },
  {
   "cell_type": "code",
   "outputs": [],
   "source": [
    "from dotenv import load_dotenv\n",
    "load_dotenv()\n",
    "\n",
    "from openai import OpenAI\n",
    "client = OpenAI()\n",
    "\n",
    "def get_completion(prompt, model=\"gpt-4-0125-preview\"):\n",
    "   messages = [{\"role\": \"user\", \"content\": prompt}]\n",
    "   response = client.chat.completions.create(model=model,\n",
    "   messages=messages,\n",
    "   temperature=0)\n",
    "   return response.choices[0].message.content\n",
    "\n",
    "epic_story = \"\"\n",
    "domain_context = \"\"\n",
    "\n",
    "domain_model_prompt = f\"\"\"\n",
    "Epics and User Story list of application: ```{epic_story}```\n",
    "Domain Context  = ```{domain_context}```\n",
    "\n",
    "Your task is to analyse the product epics, story list, and domain context in \n",
    "detail and generate the following :\n",
    "1. Using Domain Driven Design techniques, Identify the Entities, Value Objects with list\n",
    "of attributes and behaviours for each.\n",
    "2. List the services, repositories, etc. required for the application. \n",
    "\n",
    "\"\"\"\n",
    "domain_model_response = get_completion(domain_model_prompt)\n",
    "\n",
    "\n"
   ],
   "metadata": {
    "collapsed": false,
    "ExecuteTime": {
     "end_time": "2024-03-26T01:02:21.669866Z",
     "start_time": "2024-03-26T01:01:43.088035Z"
    }
   },
   "id": "cfa625b7ea00932d",
   "execution_count": 2
  }
 ],
 "metadata": {
  "kernelspec": {
   "display_name": "Python 3",
   "language": "python",
   "name": "python3"
  },
  "language_info": {
   "codemirror_mode": {
    "name": "ipython",
    "version": 2
   },
   "file_extension": ".py",
   "mimetype": "text/x-python",
   "name": "python",
   "nbconvert_exporter": "python",
   "pygments_lexer": "ipython2",
   "version": "2.7.6"
  }
 },
 "nbformat": 4,
 "nbformat_minor": 5
}
