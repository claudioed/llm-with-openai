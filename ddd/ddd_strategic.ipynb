{
 "cells": [
  {
   "cell_type": "markdown",
   "source": [
    "## DDD strategic prompt\n",
    "\n",
    "The main reason for creating this prompt is to guide architects in effectively identifying and delineating bounded contexts within a software project. It aims to streamline the strategic planning phase of DDD, enabling teams to produce a coherent model that aligns closely with the business objectives. This foundational work is crucial for developing software that is adaptable, scalable, and deeply integrated with the domain it serves, ultimately leading to more successful outcomes.\n",
    "\n",
    "In the first part we will decompose the domain in subdomains. This is **problem space**."
   ],
   "metadata": {
    "collapsed": false
   },
   "id": "1f45d937726ec118"
  },
  {
   "cell_type": "code",
   "source": [
    "from dotenv import load_dotenv\n",
    "load_dotenv()\n",
    "\n",
    "from openai import OpenAI\n",
    "client = OpenAI()\n",
    "\n",
    "persona = \"You are a solution architect. Your main assignment is create software documentation.\"\n",
    "\n",
    "def get_completion(prompt, model=\"gpt-4-1106-preview\"):\n",
    "   messages = [\n",
    "     {\"role\": \"system\", \"content\": persona},\n",
    "     {\"role\": \"user\", \"content\": prompt}\n",
    "   ]\n",
    "   response = client.chat.completions.create(model=model,\n",
    "   messages=messages,\n",
    "   temperature=0)\n",
    "   return response.choices[0].message.content\n",
    "\n",
    "ddd_strategic = {\n",
    "  \"domain\" : {\n",
    "    \"definition\" : \"domain refers to the sphere of knowledge and activity around which a business, organization, or interest centers. It embodies the subject area to which the user applies a program is relevant. In simpler terms, it's the specific business or real-world problem that the software system aims to address or solve. The domain includes all the concepts, terms, activities, data, rules, and processes relevant to the business's problem area.\",\n",
    "    \"example\" : \"The e-commerce domain focuses on the online retail of products and services, facilitating transactions between buyers and sellers through a digital platform. This domain encompasses various operations such as product listing, inventory management, order processing, payment processing, customer interaction, and logistics.\",\n",
    "    \"format\" : {\n",
    "      \"structure\" : \"< Name > \",\n",
    "      \"example\" : \"Ecommerce Ecosystem\"\n",
    "    }\n",
    "  },\n",
    "  \"subdomain\" : {\n",
    "    \"definition\" : \"a subdomain is a part of the domain that is a subset of the larger domain problem space. It represents a specific area of expertise or functionality within the overall domain. Subdomains are identified through the process of breaking down a complex domain into more manageable parts, each addressing a particular aspect of the problem domain. There are some classifications for subdomains: \"\n",
    "                   \"Core Subdomain: The core subdomain is the heart of the business’s competitive advantage. It represents the primary domain that delivers the unique value that sets the business apart from its competitors. This is where the most significant business rules and processes that are critical to the company's success are implemented.\"\n",
    "                   \"Supporting Subdomain: Supporting subdomains handle important but not competitive aspects of a business. These domains support the core domain but do not constitute the primary business differentiator.\"\n",
    "                   \"Generic Subdomain: Generic subdomains are those parts of a system that can be implemented using off-the-shelf solutions or standard software practices without significant loss of effectiveness. These are typically common functionalities that are not specific to any particular business or industry.   \" ,\n",
    "    \"example\" : \"The Order Management subdomain is responsible for all aspects of handling customer orders. This includes the process from the moment an order is placed by the customer through to its fulfillment and shipment, and potentially returns and refunds. It encompasses a range of functionalities such as order tracking, payment processing, order modification, and status updates.\",\n",
    "    \"format\" : {\n",
    "      \"structure\" : \"< Name > - <Classification>\",\n",
    "      \"example\" : \"Order Management\"\n",
    "    }\n",
    "  },\n",
    "  \"boundedContext\" : {\n",
    "    \"definition\" : \"a Bounded Context is a central pattern that defines the limits of a specific domain model within which a domain-specific language is consistent and applicable. Essentially, it is a boundary within which a particular domain model is defined and applies, ensuring that all terms, concepts, and rules are unambiguous and coherent within it. This boundary can be physical, such as a specific service in a microservices architecture, or logical, such as a module or a team boundary within a larger software system.\",\n",
    "    \"example\" : \"Order Processing\",\n",
    "    \"format\" : {\n",
    "      \"structure\" : \"< Name >\",\n",
    "      \"example\" : \"The Order Processing bounded context focuses specifically on the lifecycle of an order from the moment it is placed by the customer until it is ready to be fulfilled. This includes order validation, payment processing, and order status updates. It is distinct from other aspects of Order Management, such as inventory checks or shipping, which may fall into different bounded contexts or integrate with this one through well-defined interfaces.\"\n",
    "    }\n",
    "  },\n",
    "  \"aggregate\" : {\n",
    "    \"definition\" : \"Every Aggregate has a single root entity, known as the Aggregate Root. This root is the only member of the Aggregate that outside objects are allowed to hold references to.The Aggregate Root is responsible for enforcing the rules or invariants of the entire Aggregate. It acts as a gatekeeper, ensuring that the Aggregate's internal state changes are consistent with the domain rules.All external access to the objects within the Aggregate must flow through the Aggregate Root. This helps in maintaining consistency and integrity of the data within the Aggregate. \",\n",
    "    \"example\" : \"Order\",\n",
    "    \"format\" : {\n",
    "      \"structure\" : \"< Name >\",\n",
    "      \"example\" : \"The Order entity acts as the Aggregate Root. It is the central point of access for any modifications related to an order. The Order entity contains all the essential information needed to place and process an order, such as customer details, shipping information, and a collection of OrderItems. \"\n",
    "    }\n",
    "  }\n",
    "}\n",
    "\n",
    "domain_statement = f\"\"\"\n",
    "  The Payment Gateway domain encompasses the infrastructure and services that facilitate online payment processing between merchants and customers. It acts as an intermediary, securely transmitting payment information from the customer to the merchant's bank account or payment processor. This domain includes handling authorization of transactions, encryption of payment details, fraud detection, and compliance with financial standards and regulations. Payment gateways are essential for e-commerce, enabling businesses to accept various forms of digital payments (such as credit cards, bank transfers, and digital wallets) while ensuring transaction security and integrity.\n",
    "  As a payment gateway company our main mission is to prevent fraud in our ecosystem. \n",
    "\"\"\"\n",
    "\n",
    "domain_prompt = f\"\"\"\n",
    "\n",
    "Domain = {ddd_strategic[\"domain\"][\"definition\"]}\n",
    "\n",
    "Example for a domain : {ddd_strategic[\"domain\"][\"example\"]}\n",
    "\n",
    "Your task is to perform the following actions: \n",
    "  1. Decompose the domain in subdomains\n",
    "  2. Describe each subdomain in a few sentences.\n",
    "  3. Classify each subdomain in using subdomain classification.\n",
    "\n",
    "Use the following format:\n",
    "  Subdomain: <Name> \n",
    "  Type: <Classification>\n",
    "  Summary: <Description>\n",
    "\n",
    "Domain: <{domain_statement}>\n",
    "\"\"\"\n",
    "\n",
    "subdomain_response = get_completion(domain_prompt)\n",
    "print(subdomain_response)\n"
   ],
   "metadata": {
    "collapsed": false,
    "ExecuteTime": {
     "end_time": "2024-04-13T11:48:07.179792Z",
     "start_time": "2024-04-13T11:47:43.635703Z"
    }
   },
   "id": "2712efee34e8207e",
   "outputs": [
    {
     "name": "stdout",
     "output_type": "stream",
     "text": [
      "Subdomain: Transaction Processing\n",
      "Type: Core Domain\n",
      "Summary: This subdomain is responsible for the actual handling of payment transactions. It includes the authorization of payment from the buyer's bank or card, the capture of the transaction details, and the settlement of funds to the merchant's account. This process involves communicating with various financial institutions and ensuring the secure transfer of sensitive payment information.\n",
      "\n",
      "Subdomain: Fraud Detection and Prevention\n",
      "Type: Core Domain\n",
      "Summary: The Fraud Detection and Prevention subdomain is critical for identifying and mitigating fraudulent activities within the payment gateway ecosystem. It employs various techniques such as anomaly detection, behavior analysis, and machine learning algorithms to spot potentially fraudulent transactions. This subdomain works in real-time to assess the risk level of each transaction and can trigger alerts or block transactions based on predefined rules and patterns.\n",
      "\n",
      "Subdomain: Payment Methods Integration\n",
      "Type: Supporting Domain\n",
      "Summary: This subdomain focuses on integrating various payment methods into the payment gateway, such as credit cards, debit cards, bank transfers, and digital wallets. It ensures that the payment gateway can process transactions from different payment providers and financial institutions, maintaining compatibility and up-to-date protocols for each payment method.\n",
      "\n",
      "Subdomain: Security and Compliance\n",
      "Type: Core Domain\n",
      "Summary: Security and Compliance is a fundamental subdomain that ensures all payment transactions are encrypted and handled according to industry standards and regulations, such as PCI DSS (Payment Card Industry Data Security Standard). This subdomain is responsible for maintaining the integrity and confidentiality of payment data, performing regular security audits, and ensuring that the payment gateway adheres to legal and regulatory requirements.\n",
      "\n",
      "Subdomain: Merchant Services\n",
      "Type: Supporting Domain\n",
      "Summary: Merchant Services involves the tools and services provided to merchants to manage their accounts, view transaction histories, process refunds, and generate reports. This subdomain includes user interfaces and APIs that allow merchants to interact with the payment gateway, manage their sales, and access analytics and insights about their transactions.\n",
      "\n",
      "Subdomain: Customer Interface\n",
      "Type: Supporting Domain\n",
      "Summary: The Customer Interface subdomain deals with the user experience of the payment process from the customer's perspective. It includes the design and functionality of the payment forms, checkout pages, and any other customer-facing elements that facilitate a smooth and secure transaction process.\n",
      "\n",
      "Subdomain: Infrastructure and Operations\n",
      "Type: Generic Domain\n",
      "Summary: This subdomain encompasses the underlying technical infrastructure required to support the payment gateway's operations, such as servers, databases, network components, and cloud services. It ensures high availability, scalability, and performance of the payment gateway services.\n",
      "\n",
      "Subdomain: Monitoring and Analytics\n",
      "Type: Supporting Domain\n",
      "Summary: Monitoring and Analytics involves tracking the performance of the payment gateway, analyzing transaction data, and generating insights into operational efficiency and customer behavior. This subdomain helps in identifying trends, potential system issues, and areas for improvement within the payment gateway ecosystem.\n"
     ]
    }
   ],
   "execution_count": 5
  },
  {
   "cell_type": "markdown",
   "source": [
    "## Bounded Contexts\n",
    "Now, we already decompose the domain in subdomains in ddd **Subdomain** is part of _problem space_. Let's split those subdomains in **Bounded Contexts** those are part of _solution space_."
   ],
   "metadata": {
    "collapsed": false
   },
   "id": "162c13c06dd69e49"
  },
  {
   "cell_type": "code",
   "source": [
    "bounded_context_prompt = f\"\"\"\n",
    "\n",
    "Bounded Context = {ddd_strategic[\"boundedContext\"][\"definition\"]}\n",
    "\n",
    "Example for a bounded context : {ddd_strategic[\"boundedContext\"][\"example\"]}\n",
    "\n",
    "Your task is to perform the following actions:\n",
    "  1. Analyse each subdomain and break it down into bounded contexts   \n",
    "  2. List each bounded contexts in the following format:\n",
    "           Name \n",
    "           Description\n",
    "\n",
    "Subdomains: <{subdomain_response}>\n",
    "\"\"\"\n",
    "\n",
    "bounded_context_response = get_completion(bounded_context_prompt)\n",
    "print(bounded_context_response)"
   ],
   "metadata": {
    "collapsed": false,
    "ExecuteTime": {
     "end_time": "2024-04-13T11:30:52.093683Z",
     "start_time": "2024-04-13T11:30:37.037308Z"
    }
   },
   "id": "80053b3a4f656ad4",
   "outputs": [
    {
     "name": "stdout",
     "output_type": "stream",
     "text": [
      "Based on the provided subdomains, here is a breakdown into bounded contexts with their respective names and descriptions:\n",
      "\n",
      "1. Name: Transaction Coordination\n",
      "   Description: Manages the initiation, processing, and completion of payment transactions. It ensures the correct flow of payment information between the customer, merchant, and financial institutions.\n",
      "\n",
      "2. Name: Security Infrastructure\n",
      "   Description: Implements and maintains security measures, including SSL/TLS encryption, data protection protocols, and compliance with PCI DSS standards to safeguard transaction data.\n",
      "\n",
      "3. Name: Fraud Analysis\n",
      "   Description: Analyzes transaction data to detect and prevent fraudulent activities. Utilizes tools and techniques such as pattern recognition, CVV checks, and 3D Secure authentication to mitigate risks.\n",
      "\n",
      "4. Name: Regulatory Compliance\n",
      "   Description: Ensures that the payment gateway operations adhere to financial regulations, AML laws, KYC requirements, and other legal standards. It involves monitoring legislative changes and updating systems accordingly.\n",
      "\n",
      "5. Name: Payment Adapter\n",
      "   Description: Handles the integration of various payment methods and instruments, enabling the payment gateway to process a wide range of payment types and facilitating merchant and customer transactions.\n",
      "\n",
      "6. Name: Interface Design\n",
      "   Description: Focuses on creating intuitive and user-friendly interfaces for both customers and merchants. It encompasses the visual design, user interaction, and communication of transaction information.\n",
      "\n",
      "7. Name: Financial Settlement\n",
      "   Description: Manages the post-transaction phase, including fund settlement to merchant accounts, transaction reconciliation, and providing reporting tools for financial tracking and analysis.\n",
      "\n",
      "8. Name: Support Services\n",
      "   Description: Offers customer and merchant support for payment-related inquiries and issues. Establishes support channels and develops resources to ensure effective problem resolution and service delivery.\n"
     ]
    }
   ],
   "execution_count": 2
  },
  {
   "cell_type": "markdown",
   "source": [
    "## Aggregates\n",
    "\n",
    "From Bounded Contexts we can define our main aggregates."
   ],
   "metadata": {
    "collapsed": false
   },
   "id": "dec42ee5ad01efaf"
  },
  {
   "cell_type": "code",
   "source": [
    "aggregates_context_prompt = f\"\"\"\n",
    "\n",
    "Aggregate = {ddd_strategic[\"aggregate\"][\"definition\"]}\n",
    "\n",
    "Example for a Aggregate : {ddd_strategic[\"boundedContext\"][\"example\"]}\n",
    "\n",
    "Your task is to perform the following actions:\n",
    "  1. Analyse each bounded contexts and break it down into a list of aggregates   \n",
    "  2. List each aggregates in the following format:\n",
    "           Subdomain\n",
    "           Bounded Context Name          \n",
    "           Name \n",
    "           Description\n",
    "           Aggregate Class name in java\n",
    "           \n",
    "\n",
    "Some guidance's to define an aggregate:\n",
    "  1. Keep Aggregates Small. Aggregates should be designed to be as small as possible. Large Aggregates can lead to complex transactional scenarios and performance issues.\n",
    "  2. Design Around Business Transactions. An Aggregate should encapsulate all the data and behavior required to perform a specific business transaction.\n",
    "  3. Protect Business Invariants. The Aggregate Root should ensure the consistency of changes to data within the Aggregate and protect business rules.\n",
    "  4. Favor Eventual Consistency Outside the Aggregate Boundary. When consistency across Aggregates is required, prefer eventual consistency over immediate consistency to maintain Aggregate autonomy.\n",
    "\n",
    "\n",
    "Bounded Contexts: <{bounded_context_response}>\n",
    "\"\"\"\n",
    "\n",
    "aggregates_response = get_completion(aggregates_context_prompt)\n",
    "print(aggregates_response)"
   ],
   "metadata": {
    "collapsed": false,
    "ExecuteTime": {
     "end_time": "2024-04-13T11:31:11.532991Z",
     "start_time": "2024-04-13T11:30:52.094591Z"
    }
   },
   "id": "a80810ff68288e50",
   "outputs": [
    {
     "name": "stdout",
     "output_type": "stream",
     "text": [
      "Based on the provided bounded contexts, here is a breakdown into aggregates with their respective names and descriptions:\n",
      "\n",
      "1. Subdomain: Payment Processing\n",
      "   Bounded Context Name: Transaction Coordination\n",
      "   Name: PaymentTransaction\n",
      "   Description: Represents a single payment transaction, encapsulating all the necessary data and logic to initiate, process, and complete a payment.\n",
      "   Aggregate Class Name in Java: PaymentTransactionAggregate\n",
      "\n",
      "2. Subdomain: Security\n",
      "   Bounded Context Name: Security Infrastructure\n",
      "   Name: EncryptionProtocol\n",
      "   Description: Manages the encryption and decryption processes to ensure secure transmission of transaction data.\n",
      "   Aggregate Class Name in Java: EncryptionProtocolAggregate\n",
      "\n",
      "3. Subdomain: Fraud Prevention\n",
      "   Bounded Context Name: Fraud Analysis\n",
      "   Name: FraudCheck\n",
      "   Description: Encapsulates the logic and data required to perform fraud analysis on a transaction, including pattern recognition and verification checks.\n",
      "   Aggregate Class Name in Java: FraudCheckAggregate\n",
      "\n",
      "4. Subdomain: Compliance\n",
      "   Bounded Context Name: Regulatory Compliance\n",
      "   Name: ComplianceRule\n",
      "   Description: Represents a single compliance rule or set of rules that the payment gateway must adhere to, ensuring legal and regulatory adherence.\n",
      "   Aggregate Class Name in Java: ComplianceRuleAggregate\n",
      "\n",
      "5. Subdomain: Payment Integration\n",
      "   Bounded Context Name: Payment Adapter\n",
      "   Name: PaymentMethod\n",
      "   Description: Represents a specific payment method or instrument, handling the necessary integration and processing logic for that payment type.\n",
      "   Aggregate Class Name in Java: PaymentMethodAggregate\n",
      "\n",
      "6. Subdomain: User Interface\n",
      "   Bounded Context Name: Interface Design\n",
      "   Name: UserInterface\n",
      "   Description: Represents the design and interaction elements of the user interface, focusing on the customer and merchant experience during payment transactions.\n",
      "   Aggregate Class Name in Java: UserInterfaceAggregate\n",
      "\n",
      "7. Subdomain: Financial Management\n",
      "   Bounded Context Name: Financial Settlement\n",
      "   Name: SettlementTransaction\n",
      "   Description: Manages the settlement process for completed transactions, including fund transfers, reconciliation, and reporting.\n",
      "   Aggregate Class Name in Java: SettlementTransactionAggregate\n",
      "\n",
      "8. Subdomain: Customer Support\n",
      "   Bounded Context Name: Support Services\n",
      "   Name: SupportTicket\n",
      "   Description: Represents a support inquiry or issue raised by a customer or merchant, encapsulating the data and processes for resolution.\n",
      "   Aggregate Class Name in Java: SupportTicketAggregate\n",
      "\n",
      "These aggregates are designed to be cohesive and autonomous, each responsible for a specific aspect of the domain. They are kept small to ensure simplicity and maintainability, and they are designed around business transactions to protect business invariants. Eventual consistency is favored outside the aggregate boundaries to maintain autonomy and performance.\n"
     ]
    }
   ],
   "execution_count": 3
  }
 ],
 "metadata": {
  "kernelspec": {
   "display_name": "Python 3",
   "language": "python",
   "name": "python3"
  },
  "language_info": {
   "codemirror_mode": {
    "name": "ipython",
    "version": 2
   },
   "file_extension": ".py",
   "mimetype": "text/x-python",
   "name": "python",
   "nbconvert_exporter": "python",
   "pygments_lexer": "ipython2",
   "version": "2.7.6"
  }
 },
 "nbformat": 4,
 "nbformat_minor": 5
}
