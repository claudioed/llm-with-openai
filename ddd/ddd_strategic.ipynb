{
 "cells": [
  {
   "cell_type": "markdown",
   "source": [
    "## DDD strategic prompt\n",
    "\n",
    "The main reason for creating this prompt is to guide architects in effectively identifying and delineating bounded contexts within a software project. It aims to streamline the strategic planning phase of DDD, enabling teams to produce a coherent model that aligns closely with the business objectives. This foundational work is crucial for developing software that is adaptable, scalable, and deeply integrated with the domain it serves, ultimately leading to more successful outcomes.\n",
    "\n",
    "In the first part we will decompose the domain in subdomains. This is **problem space**."
   ],
   "metadata": {
    "collapsed": false
   },
   "id": "1f45d937726ec118"
  },
  {
   "cell_type": "code",
   "outputs": [
    {
     "name": "stdout",
     "output_type": "stream",
     "text": [
      "Question: \n",
      "\n",
      "Domain = domain refers to the sphere of knowledge and activity around which a business, organization, or interest centers. It embodies the subject area to which the user applies a program is relevant. In simpler terms, it's the specific business or real-world problem that the software system aims to address or solve. The domain includes all the concepts, terms, activities, data, rules, and processes relevant to the business's problem area.\n",
      "\n",
      "Example for a domain : The e-commerce domain focuses on the online retail of products and services, facilitating transactions between buyers and sellers through a digital platform. This domain encompasses various operations such as product listing, inventory management, order processing, payment processing, customer interaction, and logistics.\n",
      "\n",
      "Your task is to perform the following actions: \n",
      "  1. Decompose the domain in subdomains\n",
      "  2. Describe each subdomain in a few sentences.\n",
      "\n",
      "Use the following format:\n",
      "  Subdomain: <Name>\n",
      "  Subdomain Summary: <Description>\n",
      "\n",
      "Domain: <\n",
      "  The Payment Gateway domain encompasses the infrastructure and services that facilitate online payment processing between merchants and customers. It acts as an intermediary, securely transmitting payment information from the customer to the merchant's bank account or payment processor. This domain includes handling authorization of transactions, encryption of payment details, fraud detection, and compliance with financial standards and regulations. Payment gateways are essential for e-commerce, enabling businesses to accept various forms of digital payments (such as credit cards, bank transfers, and digital wallets) while ensuring transaction security and integrity.\n",
      ">\n",
      " \n",
      " \n",
      "Subdomain: Transaction Processing\n",
      "Subdomain Summary: This subdomain is responsible for the actual handling of payment transactions. It includes the authorization of credit or debit card transactions, the capture of funds, and the settlement of funds into the merchant's bank account. It ensures that transactions are processed securely and efficiently, with real-time processing capabilities.\n",
      "\n",
      "Subdomain: Security and Compliance\n",
      "Subdomain Summary: This subdomain focuses on the security measures required to protect sensitive payment information during transactions. It includes encryption, tokenization, and compliance with industry standards such as PCI DSS (Payment Card Industry Data Security Standard). It also involves implementing anti-fraud measures to detect and prevent fraudulent activities.\n",
      "\n",
      "Subdomain: Payment Methods Integration\n",
      "Subdomain Summary: This subdomain deals with the integration of various payment methods into the payment gateway, such as credit cards, bank transfers, digital wallets, and alternative payment methods. It ensures that the payment gateway can process different types of payments and that it remains flexible to accommodate new payment technologies as they emerge.\n",
      "\n",
      "Subdomain: User Interface and Experience\n",
      "Subdomain Summary: This subdomain is concerned with the design and implementation of the user interface for the payment gateway. It focuses on providing a seamless and intuitive payment experience for customers, including easy navigation, clear instructions, and feedback on the transaction status. It also involves the customization of payment pages to match the branding of merchants.\n",
      "\n",
      "Subdomain: Merchant Services\n",
      "Subdomain Summary: This subdomain provides tools and services for merchants to manage their transactions, view reports, handle refunds, and reconcile their accounts. It includes merchant portals, dashboards, and APIs that allow merchants to integrate payment gateway functionalities into their own systems.\n",
      "\n",
      "Subdomain: Infrastructure and Reliability\n",
      "Subdomain Summary: This subdomain ensures that the payment gateway's infrastructure is robust, scalable, and reliable. It involves the maintenance of servers, databases, and network components that support high availability and fault tolerance. It also includes monitoring system performance and implementing disaster recovery plans.\n",
      "\n",
      "Subdomain: Customer Support and Education\n",
      "Subdomain Summary: This subdomain provides support to both merchants and customers using the payment gateway. It includes help desks, knowledge bases, and educational resources to assist users in troubleshooting issues, understanding the payment process, and utilizing the gateway's features effectively.\n",
      "\n",
      "Subdomain: Regulatory and Financial Partnerships\n",
      "Subdomain Summary: This subdomain involves managing relationships with banks, credit card networks, and regulatory bodies. It ensures that the payment gateway adheres to financial regulations, maintains good standing with financial partners, and negotiates terms that benefit the gateway's operations and its users.\n"
     ]
    }
   ],
   "source": [
    "from dotenv import load_dotenv\n",
    "load_dotenv()\n",
    "\n",
    "from openai import OpenAI\n",
    "client = OpenAI()\n",
    "\n",
    "persona = \"You are a solution architect. Your main assignment is create software documentation.\"\n",
    "\n",
    "def get_completion(prompt, model=\"gpt-4-1106-preview\"):\n",
    "   messages = [\n",
    "     {\"role\": \"system\", \"content\": persona},\n",
    "     {\"role\": \"user\", \"content\": prompt}\n",
    "   ]\n",
    "   response = client.chat.completions.create(model=model,\n",
    "   messages=messages,\n",
    "   temperature=0)\n",
    "   return response.choices[0].message.content\n",
    "\n",
    "ddd_strategic = {\n",
    "  \"domain\" : {\n",
    "    \"definition\" : \"domain refers to the sphere of knowledge and activity around which a business, organization, or interest centers. It embodies the subject area to which the user applies a program is relevant. In simpler terms, it's the specific business or real-world problem that the software system aims to address or solve. The domain includes all the concepts, terms, activities, data, rules, and processes relevant to the business's problem area.\",\n",
    "    \"example\" : \"The e-commerce domain focuses on the online retail of products and services, facilitating transactions between buyers and sellers through a digital platform. This domain encompasses various operations such as product listing, inventory management, order processing, payment processing, customer interaction, and logistics.\",\n",
    "    \"format\" : {\n",
    "      \"structure\" : \"< Name > \",\n",
    "      \"example\" : \"Ecommerce Ecosystem\"\n",
    "    }\n",
    "  },\n",
    "  \"subdomain\" : {\n",
    "    \"definition\" : \"a subdomain is a part of the domain that is a subset of the larger domain problem space. It represents a specific area of expertise or functionality within the overall domain. Subdomains are identified through the process of breaking down a complex domain into more manageable parts, each addressing a particular aspect of the problem domain.\",\n",
    "    \"example\" : \"The Order Management subdomain is responsible for all aspects of handling customer orders. This includes the process from the moment an order is placed by the customer through to its fulfillment and shipment, and potentially returns and refunds. It encompasses a range of functionalities such as order tracking, payment processing, order modification, and status updates.\",\n",
    "    \"format\" : {\n",
    "      \"structure\" : \"< Name > \",\n",
    "      \"example\" : \"Order Management\"\n",
    "    }\n",
    "  },\n",
    "  \"boundedContext\" : {\n",
    "    \"definition\" : \"a Bounded Context is a central pattern that defines the limits of a specific domain model within which a domain-specific language is consistent and applicable. Essentially, it is a boundary within which a particular domain model is defined and applies, ensuring that all terms, concepts, and rules are unambiguous and coherent within it. This boundary can be physical, such as a specific service in a microservices architecture, or logical, such as a module or a team boundary within a larger software system.\",\n",
    "    \"example\" : \"Order Processing\",\n",
    "    \"format\" : {\n",
    "      \"structure\" : \"< Name >\",\n",
    "      \"example\" : \"The Order Processing bounded context focuses specifically on the lifecycle of an order from the moment it is placed by the customer until it is ready to be fulfilled. This includes order validation, payment processing, and order status updates. It is distinct from other aspects of Order Management, such as inventory checks or shipping, which may fall into different bounded contexts or integrate with this one through well-defined interfaces.\"\n",
    "    }\n",
    "  },\n",
    "  \"aggregate\" : {\n",
    "    \"definition\" : \"Every Aggregate has a single root entity, known as the Aggregate Root. This root is the only member of the Aggregate that outside objects are allowed to hold references to.The Aggregate Root is responsible for enforcing the rules or invariants of the entire Aggregate. It acts as a gatekeeper, ensuring that the Aggregate's internal state changes are consistent with the domain rules.All external access to the objects within the Aggregate must flow through the Aggregate Root. This helps in maintaining consistency and integrity of the data within the Aggregate. \",\n",
    "    \"example\" : \"Order\",\n",
    "    \"format\" : {\n",
    "      \"structure\" : \"< Name >\",\n",
    "      \"example\" : \"The Order entity acts as the Aggregate Root. It is the central point of access for any modifications related to an order. The Order entity contains all the essential information needed to place and process an order, such as customer details, shipping information, and a collection of OrderItems. \"\n",
    "    }\n",
    "  }\n",
    "}\n",
    "\n",
    "domain_statement = f\"\"\"\n",
    "  The Payment Gateway domain encompasses the infrastructure and services that facilitate online payment processing between merchants and customers. It acts as an intermediary, securely transmitting payment information from the customer to the merchant's bank account or payment processor. This domain includes handling authorization of transactions, encryption of payment details, fraud detection, and compliance with financial standards and regulations. Payment gateways are essential for e-commerce, enabling businesses to accept various forms of digital payments (such as credit cards, bank transfers, and digital wallets) while ensuring transaction security and integrity.\n",
    "\"\"\"\n",
    "\n",
    "domain_prompt = f\"\"\"\n",
    "\n",
    "Domain = {ddd_strategic[\"domain\"][\"definition\"]}\n",
    "\n",
    "Example for a domain : {ddd_strategic[\"domain\"][\"example\"]}\n",
    "\n",
    "Your task is to perform the following actions: \n",
    "  1. Decompose the domain in subdomains\n",
    "  2. Describe each subdomain in a few sentences.\n",
    "\n",
    "Use the following format:\n",
    "  Subdomain: <Name>\n",
    "  Subdomain Summary: <Description>\n",
    "\n",
    "Domain: <{domain_statement}>\n",
    "\"\"\"\n",
    "\n",
    "print(f\"Question: {domain_prompt} \\n \\n\")\n",
    "\n",
    "subdomain_response = get_completion(domain_prompt)\n",
    "print(subdomain_response)\n"
   ],
   "metadata": {
    "collapsed": false,
    "ExecuteTime": {
     "end_time": "2024-04-01T10:54:07.813768Z",
     "start_time": "2024-04-01T10:53:39.100353Z"
    }
   },
   "id": "2712efee34e8207e",
   "execution_count": 7
  },
  {
   "cell_type": "markdown",
   "source": [
    "## Bounded Contexts\n",
    "Now, we already decompose the domain in subdomains in ddd **Subdomain** is part of _problem space_. Let's split those subdomains in **Bounded Contexts** those are part of _solution space_."
   ],
   "metadata": {
    "collapsed": false
   },
   "id": "162c13c06dd69e49"
  },
  {
   "cell_type": "code",
   "outputs": [
    {
     "name": "stdout",
     "output_type": "stream",
     "text": [
      "Based on the provided subdomains, here is a breakdown into bounded contexts with their respective names and descriptions:\n",
      "\n",
      "1. Name: Transaction Authorization\n",
      "   Description: This bounded context is responsible for the initial phase of payment processing, where credit or debit card transactions are authorized. It ensures that the card details are valid and that the transaction is approved by the card issuer.\n",
      "\n",
      "2. Name: Funds Capture and Settlement\n",
      "   Description: This bounded context handles the capture of authorized funds from the customer's account and the subsequent settlement of those funds into the merchant's bank account. It includes the processes necessary to complete the financial transaction.\n",
      "\n",
      "3. Name: Payment Security\n",
      "   Description: This bounded context focuses on the security aspects of payment processing, including encryption, tokenization, and adherence to PCI DSS standards. It also encompasses the implementation of anti-fraud measures to safeguard against unauthorized transactions.\n",
      "\n",
      "4. Name: Payment Method Management\n",
      "   Description: This bounded context deals with the integration and management of various payment methods within the payment gateway. It ensures compatibility with different payment instruments and the adaptability to support emerging payment technologies.\n",
      "\n",
      "5. Name: Payment User Interface\n",
      "   Description: This bounded context is dedicated to the user interface design and user experience for the payment gateway. It aims to provide a user-friendly and consistent payment process, with a focus on ease of use, clarity, and merchant branding customization.\n",
      "\n",
      "6. Name: Merchant Integration and Reporting\n",
      "   Description: This bounded context provides merchants with the necessary tools and services to manage their transactions, access reports, process refunds, and perform account reconciliation. It includes the development of merchant portals, dashboards, and APIs for seamless integration.\n",
      "\n",
      "7. Name: Payment Infrastructure\n",
      "   Description: This bounded context ensures the underlying infrastructure of the payment gateway is reliable, scalable, and capable of supporting high transaction volumes. It involves server and database maintenance, network management, performance monitoring, and disaster recovery planning.\n",
      "\n",
      "8. Name: Customer and Merchant Support\n",
      "   Description: This bounded context offers support and educational resources to both merchants and customers. It includes the operation of help desks, the creation of knowledge bases, and the provision of materials to help users understand and effectively use the payment gateway.\n",
      "\n",
      "9. Name: Compliance and Partnerships\n",
      "   Description: This bounded context handles the regulatory compliance and financial partnerships essential to the payment gateway's operations. It involves liaising with banks, credit card networks, and regulatory bodies to ensure compliance and negotiate favorable terms.\n",
      "\n",
      "Each bounded context represents a distinct area of responsibility within the overall domain of a payment gateway system. They are designed to minimize overlap and ambiguity, ensuring that each context can evolve independently while maintaining a cohesive system-wide functionality.\n"
     ]
    }
   ],
   "source": [
    "bounded_context_prompt = f\"\"\"\n",
    "\n",
    "Bounded Context = {ddd_strategic[\"boundedContext\"][\"definition\"]}\n",
    "\n",
    "Example for a bounded context : {ddd_strategic[\"boundedContext\"][\"example\"]}\n",
    "\n",
    "Your task is to perform the following actions:\n",
    "  1. Analyse each subdomain and break it down into bounded contexts   \n",
    "  2. List each bounded contexts in the following format:\n",
    "           Name \n",
    "           Description\n",
    "\n",
    "Subdomains: <{subdomain_response}>\n",
    "\"\"\"\n",
    "\n",
    "bounded_context_response = get_completion(bounded_context_prompt)\n",
    "print(bounded_context_response)"
   ],
   "metadata": {
    "collapsed": false,
    "ExecuteTime": {
     "end_time": "2024-04-01T10:54:32.606507Z",
     "start_time": "2024-04-01T10:54:07.838776Z"
    }
   },
   "id": "80053b3a4f656ad4",
   "execution_count": 8
  },
  {
   "cell_type": "markdown",
   "source": [
    "## Aggregates\n",
    "\n",
    "From Bounded Contexts we can define our main aggregates."
   ],
   "metadata": {
    "collapsed": false
   },
   "id": "dec42ee5ad01efaf"
  },
  {
   "cell_type": "code",
   "outputs": [
    {
     "name": "stdout",
     "output_type": "stream",
     "text": [
      "Based on the provided bounded contexts, let's break them down into aggregates. Each aggregate will be defined with a name and a description, following the guidelines for defining an aggregate.\n",
      "\n",
      "1. Bounded Context: Transaction Authorization\n",
      "   - Aggregate: Authorization\n",
      "     - Name: Authorization\n",
      "     - Description: This aggregate is responsible for handling the authorization of payment transactions. It includes entities such as Transaction, PaymentMethod, and AuthorizationResponse. The root entity is the Transaction, which ensures that the payment method is valid and the transaction is approved by the card issuer.\n",
      "\n",
      "2. Bounded Context: Funds Capture and Settlement\n",
      "   - Aggregate: Settlement\n",
      "     - Name: Settlement\n",
      "     - Description: This aggregate manages the capture of funds from the customer's account and the settlement to the merchant's account. It includes entities like Capture, SettlementBatch, and SettlementReceipt. The root entity is the Capture, which ensures that funds are properly captured and settled according to the transaction details.\n",
      "\n",
      "3. Bounded Context: Payment Security\n",
      "   - Aggregate: Security\n",
      "     - Name: Security\n",
      "     - Description: This aggregate encompasses the security measures for payment processing, including entities like EncryptionData, SecurityToken, and FraudDetection. The root entity is the SecurityToken, which ensures that all security protocols are followed and that transactions are protected against fraud.\n",
      "\n",
      "4. Bounded Context: Payment Method Management\n",
      "   - Aggregate: PaymentMethod\n",
      "     - Name: PaymentMethod\n",
      "     - Description: This aggregate is focused on the management of various payment methods. It includes entities such as CreditCard, BankAccount, and PaymentMethodConfiguration. The root entity is the PaymentMethod, which ensures compatibility and management of different payment instruments.\n",
      "\n",
      "5. Bounded Context: Payment User Interface\n",
      "   - Aggregate: UserInterface\n",
      "     - Name: UserInterface\n",
      "     - Description: This aggregate deals with the aspects of the payment user interface, including entities like PaymentPage, UIConfiguration, and BrandingTheme. The root entity is the PaymentPage, which ensures a consistent and user-friendly payment experience.\n",
      "\n",
      "6. Bounded Context: Merchant Integration and Reporting\n",
      "   - Aggregate: MerchantIntegration\n",
      "     - Name: MerchantIntegration\n",
      "     - Description: This aggregate provides tools and services for merchant transaction management and reporting. It includes entities like MerchantAccount, TransactionReport, and RefundRequest. The root entity is the MerchantAccount, which acts as the gateway for merchants to manage their transactions and access reports.\n",
      "\n",
      "7. Bounded Context: Payment Infrastructure\n",
      "   - Aggregate: Infrastructure\n",
      "     - Name: Infrastructure\n",
      "     - Description: This aggregate ensures the reliability and scalability of the payment infrastructure. It includes entities like Server, Database, and NetworkResource. The root entity is the Server, which is responsible for maintaining the performance and availability of the payment gateway's infrastructure.\n",
      "\n",
      "8. Bounded Context: Customer and Merchant Support\n",
      "   - Aggregate: Support\n",
      "     - Name: Support\n",
      "     - Description: This aggregate handles the support provided to customers and merchants. It includes entities like SupportTicket, KnowledgeBaseArticle, and SupportAgent. The root entity is the SupportTicket, which ensures that all support inquiries are tracked and resolved efficiently.\n",
      "\n",
      "9. Bounded Context: Compliance and Partnerships\n",
      "   - Aggregate: Compliance\n",
      "     - Name: Compliance\n",
      "     - Description: This aggregate deals with regulatory compliance and financial partnerships. It includes entities like ComplianceChecklist, PartnershipAgreement, and RegulatoryReport. The root entity is the ComplianceChecklist, which ensures that all compliance requirements are met and maintained.\n",
      "\n",
      "Each aggregate is designed to be cohesive and encapsulate the necessary data and behavior to perform specific business transactions within its bounded context. The aggregate roots are responsible for maintaining the integrity and consistency of their respective aggregates.\n"
     ]
    }
   ],
   "source": [
    "aggregates_context_prompt = f\"\"\"\n",
    "\n",
    "Aggregate = {ddd_strategic[\"aggregate\"][\"definition\"]}\n",
    "\n",
    "Example for a Aggregate : {ddd_strategic[\"boundedContext\"][\"example\"]}\n",
    "\n",
    "Your task is to perform the following actions:\n",
    "  1. Analyse each bounded contexts and break it down into aggregates   \n",
    "  2. List each aggregates in the following format:\n",
    "           Name \n",
    "           Description\n",
    "\n",
    "Some guidance's to define an aggregate:\n",
    "  1. Keep Aggregates Small. Aggregates should be designed to be as small as possible. Large Aggregates can lead to complex transactional scenarios and performance issues.\n",
    "  2. Design Around Business Transactions. An Aggregate should encapsulate all the data and behavior required to perform a specific business transaction.\n",
    "  3. Protect Business Invariants. The Aggregate Root should ensure the consistency of changes to data within the Aggregate and protect business rules.\n",
    "  4. Favor Eventual Consistency Outside the Aggregate Boundary. When consistency across Aggregates is required, prefer eventual consistency over immediate consistency to maintain Aggregate autonomy.\n",
    "\n",
    "\n",
    "Bounded Contexts: <{bounded_context_response}>\n",
    "\"\"\"\n",
    "\n",
    "aggregates_response = get_completion(aggregates_context_prompt)\n",
    "print(aggregates_response)"
   ],
   "metadata": {
    "collapsed": false,
    "ExecuteTime": {
     "end_time": "2024-04-01T10:55:20.140818Z",
     "start_time": "2024-04-01T10:54:32.623992Z"
    }
   },
   "id": "a80810ff68288e50",
   "execution_count": 9
  }
 ],
 "metadata": {
  "kernelspec": {
   "display_name": "Python 3",
   "language": "python",
   "name": "python3"
  },
  "language_info": {
   "codemirror_mode": {
    "name": "ipython",
    "version": 2
   },
   "file_extension": ".py",
   "mimetype": "text/x-python",
   "name": "python",
   "nbconvert_exporter": "python",
   "pygments_lexer": "ipython2",
   "version": "2.7.6"
  }
 },
 "nbformat": 4,
 "nbformat_minor": 5
}
