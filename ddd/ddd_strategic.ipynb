{
 "cells": [
  {
   "cell_type": "markdown",
   "source": [
    "## DDD strategic prompt\n",
    "\n",
    "The main reason for creating this prompt is to guide architects in effectively identifying and delineating bounded contexts within a software project. It aims to streamline the strategic planning phase of DDD, enabling teams to produce a coherent model that aligns closely with the business objectives. This foundational work is crucial for developing software that is adaptable, scalable, and deeply integrated with the domain it serves, ultimately leading to more successful outcomes."
   ],
   "metadata": {
    "collapsed": false
   },
   "id": "1f45d937726ec118"
  },
  {
   "cell_type": "code",
   "source": [
    "from dotenv import load_dotenv\n",
    "load_dotenv()\n",
    "\n",
    "from openai import OpenAI\n",
    "client = OpenAI()\n",
    "\n",
    "def get_completion(prompt, model=\"gpt-4-1106-preview\"):\n",
    "   messages = [{\"role\": \"user\", \"content\": prompt}]\n",
    "   response = client.chat.completions.create(model=model,\n",
    "   messages=messages,\n",
    "   temperature=0)\n",
    "   return response.choices[0].message.content\n",
    "\n",
    "ddd_strategic = {\n",
    "  \"domain\" : {\n",
    "    \"definition\" : \"domain refers to the sphere of knowledge and activity around which a business, organization, or interest centers. It embodies the subject area to which the user applies a program is relevant. In simpler terms, it's the specific business or real-world problem that the software system aims to address or solve. The domain includes all the concepts, terms, activities, data, rules, and processes relevant to the business's problem area.\",\n",
    "    \"example\" : \"The e-commerce domain focuses on the online retail of products and services, facilitating transactions between buyers and sellers through a digital platform. This domain encompasses various operations such as product listing, inventory management, order processing, payment processing, customer interaction, and logistics.\",\n",
    "    \"format\" : {\n",
    "      \"structure\" : \"< Name > \",\n",
    "      \"example\" : \"Ecommerce Ecosystem\"\n",
    "    }\n",
    "  },\n",
    "  \"subdomain\" : {\n",
    "    \"definition\" : \"a subdomain is a part of the domain that is a subset of the larger domain problem space. It represents a specific area of expertise or functionality within the overall domain. Subdomains are identified through the process of breaking down a complex domain into more manageable parts, each addressing a particular aspect of the problem domain.\",\n",
    "    \"example\" : \"The Order Management subdomain is responsible for all aspects of handling customer orders. This includes the process from the moment an order is placed by the customer through to its fulfillment and shipment, and potentially returns and refunds. It encompasses a range of functionalities such as order tracking, payment processing, order modification, and status updates.\",\n",
    "    \"format\" : {\n",
    "      \"structure\" : \"< Name > \",\n",
    "      \"example\" : \"Order Management\"\n",
    "    }\n",
    "  },\n",
    "  \"boundedContext\" : {\n",
    "    \"definition\" : \"a Bounded Context is a central pattern that defines the limits of a specific domain model within which a domain-specific language is consistent and applicable. Essentially, it is a boundary within which a particular domain model is defined and applies, ensuring that all terms, concepts, and rules are unambiguous and coherent within it. This boundary can be physical, such as a specific service in a microservices architecture, or logical, such as a module or a team boundary within a larger software system.\",\n",
    "    \"example\" : \"Order Processing\",\n",
    "    \"format\" : {\n",
    "      \"structure\" : \"< Name >\",\n",
    "      \"example\" : \"The Order Processing bounded context focuses specifically on the lifecycle of an order from the moment it is placed by the customer until it is ready to be fulfilled. This includes order validation, payment processing, and order status updates. It is distinct from other aspects of Order Management, such as inventory checks or shipping, which may fall into different bounded contexts or integrate with this one through well-defined interfaces.\"\n",
    "    }\n",
    "  }\n",
    "}\n",
    "\n",
    "domain_statement = f\"\"\"\n",
    "  The Payment Gateway domain encompasses the infrastructure and services that facilitate online payment processing between merchants and customers. It acts as an intermediary, securely transmitting payment information from the customer to the merchant's bank account or payment processor. This domain includes handling authorization of transactions, encryption of payment details, fraud detection, and compliance with financial standards and regulations. Payment gateways are essential for e-commerce, enabling businesses to accept various forms of digital payments (such as credit cards, bank transfers, and digital wallets) while ensuring transaction security and integrity.\n",
    "\"\"\"\n",
    "\n",
    "domain_prompt = f\"\"\"\n",
    "\n",
    "Domain = {ddd_strategic[\"domain\"][\"definition\"]}\n",
    "\n",
    "Example for a domain : {ddd_strategic[\"domain\"][\"example\"]}\n",
    "\n",
    "Your task is to perform the following actions: \n",
    "  1. Decompose the domain in subdomains\n",
    "  2. Describe each subdomain in a few sentences.\n",
    "\n",
    "Use the following format:\n",
    "  Subdomain: <Name>\n",
    "  Subdomain Summary: <Description>\n",
    "\n",
    "Domain: <{domain_statement}>\n",
    "\"\"\"\n",
    "\n",
    "subdomain_response = get_completion(domain_prompt)\n",
    "print(subdomain_response)\n",
    "\n"
   ],
   "metadata": {
    "collapsed": false,
    "ExecuteTime": {
     "end_time": "2024-04-06T11:44:33.290107Z",
     "start_time": "2024-04-06T11:44:09.048489Z"
    }
   },
   "id": "2712efee34e8207e",
   "outputs": [
    {
     "name": "stdout",
     "output_type": "stream",
     "text": [
      "Subdomain: Transaction Processing\n",
      "Subdomain Summary: This subdomain deals with the actual handling of payment transactions. It includes the authorization of payment from the customer's bank or card, the capture of the transaction details, and the settlement of funds to the merchant's account. It ensures that transactions are processed accurately and funds are transferred appropriately.\n",
      "\n",
      "Subdomain: Security and Encryption\n",
      "Subdomain Summary: Security and encryption are critical in the payment gateway domain to protect sensitive payment information. This subdomain focuses on implementing security measures such as SSL encryption, tokenization, and compliance with PCI DSS standards to safeguard data during transmission and storage.\n",
      "\n",
      "Subdomain: Fraud Detection and Risk Management\n",
      "Subdomain Summary: This subdomain is responsible for identifying and mitigating fraudulent activities. It employs various tools and techniques, such as machine learning algorithms, behavior analysis, and risk scoring systems, to detect suspicious transactions and prevent fraud.\n",
      "\n",
      "Subdomain: Payment Methods Integration\n",
      "Subdomain Summary: Payment gateways need to support multiple payment methods to cater to different customer preferences. This subdomain involves integrating various payment options such as credit cards, debit cards, bank transfers, and digital wallets into the payment platform.\n",
      "\n",
      "Subdomain: Compliance and Regulation\n",
      "Subdomain Summary: Payment gateways must adhere to financial regulations and standards. This subdomain ensures compliance with legal requirements, such as anti-money laundering (AML) laws, Know Your Customer (KYC) regulations, and regional financial directives, to operate legally and ethically.\n",
      "\n",
      "Subdomain: User Experience and Interface\n",
      "Subdomain Summary: The user experience is crucial for customer satisfaction and conversion rates. This subdomain focuses on the design and functionality of the payment gateway from the user's perspective, ensuring a seamless, intuitive, and accessible payment process.\n",
      "\n",
      "Subdomain: Merchant Services\n",
      "Subdomain Summary: This subdomain provides tools and services for merchants to manage their transactions, view reports, handle refunds, and reconcile their accounts. It aims to simplify the merchant's interaction with the payment gateway and provide valuable insights into their sales and financial data.\n",
      "\n",
      "Subdomain: Technical Integration and Support\n",
      "Subdomain Summary: Technical integration and support involve the integration of the payment gateway with merchant websites and applications, as well as ongoing technical support. This subdomain ensures that the payment gateway is compatible with various e-commerce platforms and provides assistance to resolve any technical issues that may arise.\n"
     ]
    }
   ],
   "execution_count": 2
  },
  {
   "metadata": {},
   "cell_type": "markdown",
   "source": [
    "## Bounded Contexts\n",
    "Now, we know everything related our subdomains, it's time to ask AI to help us to define our Bounded Contexts, that is the part that we as a developers will work on!!\n",
    "\n",
    "Let's ask!!"
   ],
   "id": "c1490207bc431d72"
  },
  {
   "metadata": {
    "ExecuteTime": {
     "end_time": "2024-04-06T11:44:50.522383Z",
     "start_time": "2024-04-06T11:44:33.292779Z"
    }
   },
   "cell_type": "code",
   "source": [
    "bounded_context_prompt = f\"\"\"\n",
    "\n",
    "Bounded Context = {ddd_strategic[\"boundedContext\"][\"definition\"]}\n",
    "\n",
    "Example for a bounded context : {ddd_strategic[\"boundedContext\"][\"example\"]}\n",
    "\n",
    "Your task is to perform the following actions:\n",
    "  1. Analyse each subdomain and break it down into bounded contexts   \n",
    "  2. List each bounded contexts in the following format:\n",
    "           Name \n",
    "           Description\n",
    "\n",
    "\n",
    "Subdomains: <{subdomain_response}>\n",
    "\"\"\"\n",
    "\n",
    "bounded_context_response = get_completion(bounded_context_prompt)\n",
    "print(bounded_context_response)"
   ],
   "id": "d8aff0c071daeb79",
   "outputs": [
    {
     "name": "stdout",
     "output_type": "stream",
     "text": [
      "Based on the provided subdomains, here are the bounded contexts broken down with their respective names and descriptions:\n",
      "\n",
      "1. Name: Payment Authorization\n",
      "   Description: This bounded context is responsible for handling the initial phase of a transaction, where the payment is authorized by the customer's bank or card issuer. It ensures that the customer has sufficient funds or credit and that the payment details are valid.\n",
      "\n",
      "2. Name: Transaction Settlement\n",
      "   Description: This bounded context deals with the final phase of the transaction process, where funds are transferred from the customer's account to the merchant's account after the payment has been authorized and captured.\n",
      "\n",
      "3. Name: Security Protocols\n",
      "   Description: This bounded context focuses on the implementation and management of security measures such as SSL/TLS encryption, tokenization of sensitive data, and adherence to PCI DSS standards to protect payment information during transmission and storage.\n",
      "\n",
      "4. Name: Fraud Prevention\n",
      "   Description: This bounded context is dedicated to the detection and prevention of fraudulent activities. It uses machine learning, behavior analysis, and risk scoring to identify and block suspicious transactions, thereby reducing the risk of fraud.\n",
      "\n",
      "5. Name: Payment Gateway Integration\n",
      "   Description: This bounded context involves the technical work required to support various payment methods. It includes the integration of credit cards, debit cards, bank transfers, and digital wallets into the payment platform, ensuring a wide range of options for customers.\n",
      "\n",
      "6. Name: Regulatory Compliance\n",
      "   Description: This bounded context ensures that the payment gateway operates in accordance with legal and financial regulations, including AML, KYC, and other regional directives. It is responsible for maintaining compliance and managing any changes in legislation.\n",
      "\n",
      "7. Name: User Interface Design\n",
      "   Description: This bounded context is focused on the design and development of the user interface for the payment gateway. It aims to create a seamless, intuitive, and accessible experience for customers during the payment process.\n",
      "\n",
      "8. Name: Merchant Analytics\n",
      "   Description: This bounded context provides tools and services for merchants to manage their transactions, access reports, process refunds, and reconcile accounts. It aims to offer valuable insights and simplify the merchant's financial operations.\n",
      "\n",
      "9. Name: Integration Support\n",
      "   Description: This bounded context handles the technical aspects of integrating the payment gateway with merchant websites and applications. It also provides ongoing support to address any technical issues and ensure smooth operation across various e-commerce platforms.\n"
     ]
    }
   ],
   "execution_count": 3
  },
  {
   "metadata": {},
   "cell_type": "markdown",
   "source": "## Visual Diagrams",
   "id": "cafca4504bf3eda"
  },
  {
   "metadata": {
    "ExecuteTime": {
     "end_time": "2024-04-06T12:09:49.336903Z",
     "start_time": "2024-04-06T12:09:35.506939Z"
    }
   },
   "cell_type": "code",
   "source": [
    "mindmaps_prompt = f\"\"\"\n",
    "\n",
    "  Your task is to perform the following actions:\n",
    "    1. Given the bounded contexts create a visual diagram containing bounded contexts. Use mermaid syntax to define it.\n",
    "    2. You should follow the documentation https://mermaid.js.org/syntax/mindmap.html\n",
    "    3. Give me the diagram of bounded contexts in .md extension. Make sure that file is valid.\n",
    "  \n",
    "  Bounded Contexts: <{bounded_context_response}>\n",
    "  \n",
    "\"\"\"\n",
    "\n",
    "diagram_response = get_completion(mindmaps_prompt)\n",
    "print(diagram_response)\n",
    "\n",
    "\n"
   ],
   "id": "4005b008ee781b69",
   "outputs": [
    {
     "name": "stdout",
     "output_type": "stream",
     "text": [
      "```markdown\n",
      "# Bounded Contexts Diagram\n",
      "\n",
      "```mermaid\n",
      "mindmap\n",
      "direction TB\n",
      "classDef defaultStyle fill:#f9f,stroke:#333,stroke-width:2px;\n",
      "classDef subStyle fill:#bbf,stroke:#f66,stroke-width:2px;\n",
      "style root defaultStyle\n",
      "\n",
      "root[(Payment System)]:::defaultStyle\n",
      "  sub1[(Payment Authorization)]:::subStyle\n",
      "  sub2[(Transaction Settlement)]:::subStyle\n",
      "  sub3[(Security Protocols)]:::subStyle\n",
      "  sub4[(Fraud Prevention)]:::subStyle\n",
      "  sub5[(Payment Gateway Integration)]:::subStyle\n",
      "  sub6[(Regulatory Compliance)]:::subStyle\n",
      "  sub7[(User Interface Design)]:::subStyle\n",
      "  sub8[(Merchant Analytics)]:::subStyle\n",
      "  sub9[(Integration Support)]:::subStyle\n",
      "\n",
      "root --> sub1\n",
      "root --> sub2\n",
      "root --> sub3\n",
      "root --> sub4\n",
      "root --> sub5\n",
      "root --> sub6\n",
      "root --> sub7\n",
      "root --> sub8\n",
      "root --> sub9\n",
      "```\n",
      "```\n",
      "\n",
      "This markdown file contains a mermaid syntax diagram representing the bounded contexts as a mindmap. Each bounded context is a node connected to the central \"Payment System\" node. The diagram is styled with two custom class definitions for the root and sub-nodes. To view the diagram, you would need to render this markdown in an environment that supports mermaid diagrams, such as GitHub or a markdown editor with mermaid plugin support.\n"
     ]
    }
   ],
   "execution_count": 12
  },
  {
   "metadata": {
    "ExecuteTime": {
     "end_time": "2024-04-06T11:45:07.145146Z",
     "start_time": "2024-04-06T11:45:07.142770Z"
    }
   },
   "cell_type": "code",
   "source": "",
   "id": "340b15838a86dca0",
   "outputs": [],
   "execution_count": 4
  }
 ],
 "metadata": {
  "kernelspec": {
   "display_name": "Python 3",
   "language": "python",
   "name": "python3"
  },
  "language_info": {
   "codemirror_mode": {
    "name": "ipython",
    "version": 2
   },
   "file_extension": ".py",
   "mimetype": "text/x-python",
   "name": "python",
   "nbconvert_exporter": "python",
   "pygments_lexer": "ipython2",
   "version": "2.7.6"
  }
 },
 "nbformat": 4,
 "nbformat_minor": 5
}
