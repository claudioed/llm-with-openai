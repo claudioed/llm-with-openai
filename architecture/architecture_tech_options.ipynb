{
 "cells": [
  {
   "cell_type": "markdown",
   "source": [
    "# Architects assistant Jupyter notebook\n",
    "This Jupyter Notebook is designed as an invaluable tool for software architects aiming to define and analyze architectural definitions and associated trade-offs. By leveraging this notebook, architects can systematically approach complex software architecture problems, facilitating the decision-making process in the architectural design of software systems.\n"
   ],
   "metadata": {
    "collapsed": false
   },
   "id": "aa9a1802dbf6aa36"
  },
  {
   "cell_type": "code",
   "outputs": [],
   "source": [
    "from dotenv import load_dotenv\n",
    "load_dotenv()\n",
    "\n",
    "from openai import OpenAI\n",
    "client = OpenAI()\n",
    "\n",
    "def get_completion(prompt, model=\"gpt-4-0125-preview\"):\n",
    "   messages = [{\"role\": \"user\", \"content\": prompt}]\n",
    "   response = client.chat.completions.create(model=model,\n",
    "   messages=messages,\n",
    "   temperature=0)\n",
    "   return response.choices[0].message.content\n",
    "\n",
    "tech_stack_prompt = \"\"\"\n",
    "Your role is to act as a Software Architect assistant.\n",
    "\n",
    "Requirements that needs to be met:\n",
    "- Ecosystem: Java\n",
    "- Cloud Provider: AWS\n",
    "- Use a typed language\n",
    "- Backend should be a RESTful API\n",
    "- Use managed services provided by the cloud provider\n",
    "- Use managed relational database provided by the cloud provider\n",
    "- Prefer open source tools\n",
    "- Do not suggest serverless functions such as AWS Lambda\n",
    "- Prefer maven over gradle\n",
    "\n",
    "Please suggest the below:\n",
    "- Frontend Tech stack\n",
    "   - Programming language\n",
    "   - Framework\n",
    "   - Build tool\n",
    "   - Code coverage tool\n",
    "   - Dependency management\n",
    "   - Dependency vulnerability scanning\n",
    "   - Static code analysis       \n",
    "   - Unit testing\n",
    "   - UI testing\n",
    "- Backend API Tech stack\n",
    "   - Programming language\n",
    "   - Framework\n",
    "   - Build tool\n",
    "   - Code coverage tool\n",
    "   - Static code analysis\n",
    "   - Dependency management\n",
    "   - Dependency vulnerability scanning\n",
    "   - Unit testing\n",
    "   - API testing framework\n",
    "   - API documentation\n",
    "- Database\n",
    "- Secret management  \n",
    "- Security\n",
    "   - Container scanning tool\n",
    "   - Static Application Security Testing (SAST) tool\n",
    "   - Dynamic Application Security Testing (DAST) tool\n",
    "   - Penetration testing tool\n",
    "- Infrastructure\n",
    "   - Infrastructure as code\n",
    "   - Security compliance scanning\n",
    "- Logging\n",
    "- Monitoring\n",
    "- CI/CD tool\n",
    "\n",
    "\n",
    "For each of the above, please provide in the below format:\n",
    "   <tool name>\n",
    "   Description: <short description>\n",
    "   Reason to choose: <reason> Pls note <reason> must not include generic words like popular or widely used or large community\n",
    "   Alternatives: <alternatives>. <provide the reasons to not choose them. Must not contain the reason that it lack some of the advanced features>.\n",
    "\n",
    "\n",
    "Output must be in markdown syntax with proper newlines and indentation that can be directly copied to a markdown file.\n",
    "\"\"\"\n",
    "\n",
    "response = get_completion(tech_stack_prompt)\n",
    "print(response)\n"
   ],
   "metadata": {
    "collapsed": false,
    "is_executing": true,
    "ExecuteTime": {
     "start_time": "2024-03-26T01:00:53.252406Z"
    }
   },
   "id": "dbafd008ce1da96",
   "execution_count": null
  },
  {
   "cell_type": "code",
   "outputs": [],
   "source": [],
   "metadata": {
    "collapsed": false,
    "is_executing": true
   },
   "id": "c7390f9995bb06dd"
  },
  {
   "cell_type": "markdown",
   "source": [
    "### References  \n",
    "\n",
    "[Generative AI in Software Architecture: Don’t Replace Your Architects Yet!](https://medium.com/inspiredbrilliance/generative-ai-in-software-architecture-dont-replace-your-architects-yet-cde0c5d462c5])\n"
   ],
   "metadata": {
    "collapsed": false
   },
   "id": "4c09d1bab6ed728d"
  }
 ],
 "metadata": {
  "kernelspec": {
   "display_name": "Python 3",
   "language": "python",
   "name": "python3"
  },
  "language_info": {
   "codemirror_mode": {
    "name": "ipython",
    "version": 2
   },
   "file_extension": ".py",
   "mimetype": "text/x-python",
   "name": "python",
   "nbconvert_exporter": "python",
   "pygments_lexer": "ipython2",
   "version": "2.7.6"
  }
 },
 "nbformat": 4,
 "nbformat_minor": 5
}
