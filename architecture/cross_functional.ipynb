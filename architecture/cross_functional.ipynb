{
 "cells": [
  {
   "cell_type": "markdown",
   "source": [
    "# Addressing Cross-Functional Software Architecture Problems: An Interactive Guide\n",
    "\n",
    "This Jupyter Notebook serves as an interactive guide for architects and developers facing the challenges of cross-functional software architecture problems. In the realm of software engineering, addressing concerns that span across different functionalities — such as performance, security, maintainability, and scalability — is crucial for the success of any project. This notebook is designed to equip you with the knowledge, strategies, and practical tools needed to navigate and solve these complex issues effectively.\n",
    "\n",
    "## Objectives\n",
    "\n",
    "- **Understand Cross-Functional Requirements**: Dive deep into the core concepts of cross-functional requirements in software architecture, including performance optimization, security best practices, scalability strategies, and maintainability issues.\n",
    "- **Strategies and Solutions**: Explore various strategies and solutions for addressing common cross-functional problems, with a focus on real-world applicability and best practices.\n",
    "- **Interactive Examples**: Engage with interactive examples and exercises designed to solidify your understanding and provide hands-on experience in applying architectural principles to solve problems.\n",
    "\n",
    "## Prerequisites\n",
    "\n",
    "- A foundational understanding of software architecture principles and design patterns.\n",
    "- Familiarity with at least one programming language and basic development tools.\n",
    "- An eagerness to learn and tackle complex architectural challenges through a practical, example-driven approach.\n",
    "\n",
    "This notebook aims to bridge the gap between theoretical knowledge and practical application, providing you with the insights and skills necessary to enhance the quality and robustness of software architectures. Whether you're looking to improve existing systems or design new ones, this guide will support your journey in mastering the intricacies of cross-functional software architecture problems.\n",
    "\n",
    "Let's embark on this journey together, enhancing our architectural designs to meet and exceed the multifaceted demands of modern software development.\n",
    "\n"
   ],
   "metadata": {
    "collapsed": false
   },
   "id": "aa9a1802dbf6aa36"
  },
  {
   "cell_type": "code",
   "outputs": [],
   "source": [
    "from dotenv import load_dotenv\n",
    "load_dotenv()\n",
    "\n",
    "from openai import OpenAI\n",
    "client = OpenAI()\n",
    "\n",
    "def get_completion(prompt, model=\"gpt-4-0125-preview\"):\n",
    "   messages = [{\"role\": \"user\", \"content\": prompt}]\n",
    "   response = client.chat.completions.create(model=model,\n",
    "   messages=messages,\n",
    "   temperature=0)\n",
    "   return response.choices[0].message.content\n",
    "\n",
    "cross_functional_prompt = \"\"\"\n",
    " List all the cross-functional requirements (At least 15) that need to be followed in the overall system architecture\n",
    "\n",
    " Information about the System architecture:\n",
    " - Nodejs backend deployed in AWS Elastic Beanstalk\n",
    " - React frontend deployed in AWS S3\n",
    " - AWS RDS MySQL database\n",
    "\n",
    " Each cross-functional requirement should be in the below format:\n",
    " <requirement name>:\n",
    " Description: <Description of the requirement in detail>\n",
    " Best Practices: List of practices to follow to meet the requirement\n",
    " Example: List multiple examples of how the requirement is met\n",
    " Tools: List the tools that can be used to meet the requirement\n",
    "\n",
    " The output must be in markdown syntax with proper new lines and indentation that can be directly copied to a markdown file      \n",
    "\"\"\"\n",
    "\n",
    "response = get_completion(cross_functional_prompt)\n",
    "print(response)\n"
   ],
   "metadata": {
    "collapsed": false,
    "is_executing": true,
    "ExecuteTime": {
     "start_time": "2024-03-26T01:01:02.011605Z"
    }
   },
   "id": "dbafd008ce1da96",
   "execution_count": null
  },
  {
   "cell_type": "code",
   "outputs": [],
   "source": [],
   "metadata": {
    "collapsed": false,
    "is_executing": true
   },
   "id": "c7390f9995bb06dd"
  },
  {
   "cell_type": "markdown",
   "source": [
    "### References  \n",
    "\n",
    "[Generative AI in Software Architecture: Don’t Replace Your Architects Yet!](https://medium.com/inspiredbrilliance/generative-ai-in-software-architecture-dont-replace-your-architects-yet-cde0c5d462c5])\n"
   ],
   "metadata": {
    "collapsed": false
   },
   "id": "4c09d1bab6ed728d"
  }
 ],
 "metadata": {
  "kernelspec": {
   "display_name": "Python 3",
   "language": "python",
   "name": "python3"
  },
  "language_info": {
   "codemirror_mode": {
    "name": "ipython",
    "version": 2
   },
   "file_extension": ".py",
   "mimetype": "text/x-python",
   "name": "python",
   "nbconvert_exporter": "python",
   "pygments_lexer": "ipython2",
   "version": "2.7.6"
  }
 },
 "nbformat": 4,
 "nbformat_minor": 5
}
