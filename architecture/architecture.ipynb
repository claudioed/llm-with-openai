{
 "cells": [
  {
   "cell_type": "markdown",
   "source": [
    "# Architects assistant Jupyter notebook\n",
    "This Jupyter Notebook is designed as an invaluable tool for software architects aiming to define and analyze architectural definitions and associated trade-offs. By leveraging this notebook, architects can systematically approach complex software architecture problems, facilitating the decision-making process in the architectural design of software systems.\n"
   ],
   "metadata": {
    "collapsed": false
   },
   "id": "aa9a1802dbf6aa36"
  },
  {
   "cell_type": "code",
   "outputs": [
    {
     "ename": "OpenAIError",
     "evalue": "The api_key client option must be set either by passing api_key to the client or by setting the OPENAI_API_KEY environment variable",
     "output_type": "error",
     "traceback": [
      "\u001B[0;31m---------------------------------------------------------------------------\u001B[0m",
      "\u001B[0;31mOpenAIError\u001B[0m                               Traceback (most recent call last)",
      "Cell \u001B[0;32mIn[1], line 2\u001B[0m\n\u001B[1;32m      1\u001B[0m \u001B[38;5;28;01mfrom\u001B[39;00m \u001B[38;5;21;01mopenai\u001B[39;00m \u001B[38;5;28;01mimport\u001B[39;00m OpenAI\n\u001B[0;32m----> 2\u001B[0m client \u001B[38;5;241m=\u001B[39m \u001B[43mOpenAI\u001B[49m\u001B[43m(\u001B[49m\u001B[43m)\u001B[49m\n\u001B[1;32m      4\u001B[0m \u001B[38;5;28;01mdef\u001B[39;00m \u001B[38;5;21mget_completion\u001B[39m(prompt, model\u001B[38;5;241m=\u001B[39m\u001B[38;5;124m\"\u001B[39m\u001B[38;5;124mgpt-4-0125-preview\u001B[39m\u001B[38;5;124m\"\u001B[39m):\n\u001B[1;32m      5\u001B[0m    messages \u001B[38;5;241m=\u001B[39m [{\u001B[38;5;124m\"\u001B[39m\u001B[38;5;124mrole\u001B[39m\u001B[38;5;124m\"\u001B[39m: \u001B[38;5;124m\"\u001B[39m\u001B[38;5;124muser\u001B[39m\u001B[38;5;124m\"\u001B[39m, \u001B[38;5;124m\"\u001B[39m\u001B[38;5;124mcontent\u001B[39m\u001B[38;5;124m\"\u001B[39m: prompt}]\n",
      "File \u001B[0;32m~/development/github/llm/llm-with-openai/.venv/lib/python3.9/site-packages/openai/_client.py:98\u001B[0m, in \u001B[0;36mOpenAI.__init__\u001B[0;34m(self, api_key, organization, base_url, timeout, max_retries, default_headers, default_query, http_client, _strict_response_validation)\u001B[0m\n\u001B[1;32m     96\u001B[0m     api_key \u001B[38;5;241m=\u001B[39m os\u001B[38;5;241m.\u001B[39menviron\u001B[38;5;241m.\u001B[39mget(\u001B[38;5;124m\"\u001B[39m\u001B[38;5;124mOPENAI_API_KEY\u001B[39m\u001B[38;5;124m\"\u001B[39m)\n\u001B[1;32m     97\u001B[0m \u001B[38;5;28;01mif\u001B[39;00m api_key \u001B[38;5;129;01mis\u001B[39;00m \u001B[38;5;28;01mNone\u001B[39;00m:\n\u001B[0;32m---> 98\u001B[0m     \u001B[38;5;28;01mraise\u001B[39;00m OpenAIError(\n\u001B[1;32m     99\u001B[0m         \u001B[38;5;124m\"\u001B[39m\u001B[38;5;124mThe api_key client option must be set either by passing api_key to the client or by setting the OPENAI_API_KEY environment variable\u001B[39m\u001B[38;5;124m\"\u001B[39m\n\u001B[1;32m    100\u001B[0m     )\n\u001B[1;32m    101\u001B[0m \u001B[38;5;28mself\u001B[39m\u001B[38;5;241m.\u001B[39mapi_key \u001B[38;5;241m=\u001B[39m api_key\n\u001B[1;32m    103\u001B[0m \u001B[38;5;28;01mif\u001B[39;00m organization \u001B[38;5;129;01mis\u001B[39;00m \u001B[38;5;28;01mNone\u001B[39;00m:\n",
      "\u001B[0;31mOpenAIError\u001B[0m: The api_key client option must be set either by passing api_key to the client or by setting the OPENAI_API_KEY environment variable"
     ]
    }
   ],
   "source": [
    "from openai import OpenAI\n",
    "client = OpenAI()\n",
    "\n",
    "def get_completion(prompt, model=\"gpt-4-0125-preview\"):\n",
    "   messages = [{\"role\": \"user\", \"content\": prompt}]\n",
    "   response = client.chat.completions.create(model=model,\n",
    "   messages=messages,\n",
    "   temperature=0)\n",
    "   return response.choices[0].message.content\n",
    "\n",
    "tech_stack_prompt = \"\"\"\n",
    "Your role is to act as a Software Architect assistant.\n",
    "\n",
    "Requirements that needs to be met:\n",
    "- Ecosystem: Java\n",
    "- Cloud Provider: AWS\n",
    "- Use a typed language\n",
    "- Backend should be a RESTful API\n",
    "- Use managed services provided by the cloud provider\n",
    "- Use managed relational database provided by the cloud provider\n",
    "- Prefer open source tools\n",
    "- Do not suggest serverless functions such as AWS Lambda\n",
    "- Prefer maven over gradle\n",
    "\n",
    "Please suggest the below:\n",
    "- Frontend Tech stack\n",
    "   - Programming language\n",
    "   - Framework\n",
    "   - Build tool\n",
    "   - Code coverage tool\n",
    "   - Dependency management\n",
    "   - Dependency vulnerability scanning\n",
    "   - Static code analysis       \n",
    "   - Unit testing\n",
    "   - UI testing\n",
    "- Backend API Tech stack\n",
    "   - Programming language\n",
    "   - Framework\n",
    "   - Build tool\n",
    "   - Code coverage tool\n",
    "   - Static code analysis\n",
    "   - Dependency management\n",
    "   - Dependency vulnerability scanning\n",
    "   - Unit testing\n",
    "   - API testing framework\n",
    "   - API documentation\n",
    "- Database\n",
    "- Secret management  \n",
    "- Security\n",
    "   - Container scanning tool\n",
    "   - Static Application Security Testing (SAST) tool\n",
    "   - Dynamic Application Security Testing (DAST) tool\n",
    "   - Penetration testing tool\n",
    "- Infrastructure\n",
    "   - Infrastructure as code\n",
    "   - Security compliance scanning\n",
    "- Logging\n",
    "- Monitoring\n",
    "- CI/CD tool\n",
    "\n",
    "\n",
    "For each of the above, please provide in the below format:\n",
    "   <tool name>\n",
    "   Description: <short description>\n",
    "   Reason to choose: <reason> Pls note <reason> must not include generic words like popular or widely used or large community\n",
    "   Alternatives: <alternatives>. <provide the reasons to not choose them. Must not contain the reason that it lack some of the advanced features>.\n",
    "\n",
    "\n",
    "Output must be in markdown syntax with proper newlines and indentation that can be directly copied to a markdown file.\n",
    "\"\"\"\n",
    "\n",
    "response = get_completion(tech_stack_prompt)\n",
    "print(response)\n"
   ],
   "metadata": {
    "collapsed": false,
    "ExecuteTime": {
     "end_time": "2024-03-25T10:50:19.595396Z",
     "start_time": "2024-03-25T10:50:19.145304Z"
    }
   },
   "id": "dbafd008ce1da96",
   "execution_count": 1
  },
  {
   "cell_type": "code",
   "outputs": [],
   "source": [],
   "metadata": {
    "collapsed": false
   },
   "id": "c7390f9995bb06dd"
  },
  {
   "cell_type": "markdown",
   "source": [
    "### References  \n",
    "\n",
    "(Generative AI in Software Architecture: Don’t Replace Your Architects Yet!)[https://medium.com/inspiredbrilliance/generative-ai-in-software-architecture-dont-replace-your-architects-yet-cde0c5d462c5]\n"
   ],
   "metadata": {
    "collapsed": false
   },
   "id": "4c09d1bab6ed728d"
  }
 ],
 "metadata": {
  "kernelspec": {
   "display_name": "Python 3",
   "language": "python",
   "name": "python3"
  },
  "language_info": {
   "codemirror_mode": {
    "name": "ipython",
    "version": 2
   },
   "file_extension": ".py",
   "mimetype": "text/x-python",
   "name": "python",
   "nbconvert_exporter": "python",
   "pygments_lexer": "ipython2",
   "version": "2.7.6"
  }
 },
 "nbformat": 4,
 "nbformat_minor": 5
}
