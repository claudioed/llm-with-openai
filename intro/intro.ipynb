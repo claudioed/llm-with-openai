{
 "cells": [
  {
   "cell_type": "markdown",
   "metadata": {},
   "source": [
    "# OpenAI API Call Example\n",
    "\n",
    "This notebook demonstrates how to make a simple call to the OpenAI API to generate text using Python."
   ]
  },
  {
   "cell_type": "code",
   "execution_count": 1,
   "metadata": {
    "collapsed": false,
    "ExecuteTime": {
     "end_time": "2024-03-26T01:01:22.222803Z",
     "start_time": "2024-03-26T01:01:20.437756Z"
    }
   },
   "source": [
    "!pip install openai\n",
    "!pip install python-dotenv"
   ],
   "outputs": [
    {
     "name": "stdout",
     "output_type": "stream",
     "text": [
      "Requirement already satisfied: openai in /Users/claudioed/development/github/llm/llm-with-openai/.venv/lib/python3.9/site-packages (1.14.2)\r\n",
      "Requirement already satisfied: anyio<5,>=3.5.0 in /Users/claudioed/development/github/llm/llm-with-openai/.venv/lib/python3.9/site-packages (from openai) (4.3.0)\r\n",
      "Requirement already satisfied: distro<2,>=1.7.0 in /Users/claudioed/development/github/llm/llm-with-openai/.venv/lib/python3.9/site-packages (from openai) (1.9.0)\r\n",
      "Requirement already satisfied: httpx<1,>=0.23.0 in /Users/claudioed/development/github/llm/llm-with-openai/.venv/lib/python3.9/site-packages (from openai) (0.27.0)\r\n",
      "Requirement already satisfied: pydantic<3,>=1.9.0 in /Users/claudioed/development/github/llm/llm-with-openai/.venv/lib/python3.9/site-packages (from openai) (2.6.4)\r\n",
      "Requirement already satisfied: sniffio in /Users/claudioed/development/github/llm/llm-with-openai/.venv/lib/python3.9/site-packages (from openai) (1.3.1)\r\n",
      "Requirement already satisfied: tqdm>4 in /Users/claudioed/development/github/llm/llm-with-openai/.venv/lib/python3.9/site-packages (from openai) (4.66.2)\r\n",
      "Requirement already satisfied: typing-extensions<5,>=4.7 in /Users/claudioed/development/github/llm/llm-with-openai/.venv/lib/python3.9/site-packages (from openai) (4.10.0)\r\n",
      "Requirement already satisfied: idna>=2.8 in /Users/claudioed/development/github/llm/llm-with-openai/.venv/lib/python3.9/site-packages (from anyio<5,>=3.5.0->openai) (3.6)\r\n",
      "Requirement already satisfied: exceptiongroup>=1.0.2 in /Users/claudioed/development/github/llm/llm-with-openai/.venv/lib/python3.9/site-packages (from anyio<5,>=3.5.0->openai) (1.2.0)\r\n",
      "Requirement already satisfied: certifi in /Users/claudioed/development/github/llm/llm-with-openai/.venv/lib/python3.9/site-packages (from httpx<1,>=0.23.0->openai) (2024.2.2)\r\n",
      "Requirement already satisfied: httpcore==1.* in /Users/claudioed/development/github/llm/llm-with-openai/.venv/lib/python3.9/site-packages (from httpx<1,>=0.23.0->openai) (1.0.4)\r\n",
      "Requirement already satisfied: h11<0.15,>=0.13 in /Users/claudioed/development/github/llm/llm-with-openai/.venv/lib/python3.9/site-packages (from httpcore==1.*->httpx<1,>=0.23.0->openai) (0.14.0)\r\n",
      "Requirement already satisfied: annotated-types>=0.4.0 in /Users/claudioed/development/github/llm/llm-with-openai/.venv/lib/python3.9/site-packages (from pydantic<3,>=1.9.0->openai) (0.6.0)\r\n",
      "Requirement already satisfied: pydantic-core==2.16.3 in /Users/claudioed/development/github/llm/llm-with-openai/.venv/lib/python3.9/site-packages (from pydantic<3,>=1.9.0->openai) (2.16.3)\r\n",
      "Requirement already satisfied: python-dotenv in /Users/claudioed/development/github/llm/llm-with-openai/.venv/lib/python3.9/site-packages (1.0.1)\r\n"
     ]
    }
   ]
  },
  {
   "cell_type": "code",
   "execution_count": 2,
   "metadata": {
    "collapsed": false,
    "ExecuteTime": {
     "end_time": "2024-03-26T01:01:24.932622Z",
     "start_time": "2024-03-26T01:01:22.224444Z"
    }
   },
   "source": [
    "from openai import OpenAI\n",
    "import os\n",
    "\n",
    "from dotenv import load_dotenv\n",
    "load_dotenv()\n",
    "\n",
    "client = OpenAI(\n",
    "    # This is the default and can be omitted\n",
    "    api_key=os.environ.get(\"OPENAI_API_KEY\"),\n",
    ")\n",
    "\n",
    "user_prompt = \"\"\"\n",
    "  What is chat-gpt??\n",
    "\"\"\"\n",
    "\n",
    "response = client.chat.completions.create(\n",
    "  messages=[        \n",
    "         {\"role\": \"user\", \"content\": f\"{user_prompt}\"},\n",
    "    ],\n",
    "    model=\"gpt-3.5-turbo\",\n",
    "    temperature=0\n",
    ")\n",
    "\n",
    "print(response.choices[0].message.content)"
   ],
   "outputs": [
    {
     "name": "stdout",
     "output_type": "stream",
     "text": [
      "Chat-GPT is a conversational AI model developed by OpenAI that is designed to generate human-like responses in natural language conversations. It is based on the GPT-3 (Generative Pre-trained Transformer 3) model and is trained on a large dataset of text from the internet to generate coherent and contextually relevant responses to user inputs. Chat-GPT can be used in a variety of applications, such as chatbots, virtual assistants, and customer service interactions.\n"
     ]
    }
   ]
  },
  {
   "cell_type": "code",
   "outputs": [],
   "source": [
    "# Open AI - API Parameters explanation"
   ],
   "metadata": {
    "collapsed": false,
    "ExecuteTime": {
     "end_time": "2024-03-26T01:01:24.937658Z",
     "start_time": "2024-03-26T01:01:24.934559Z"
    }
   },
   "execution_count": 3
  },
  {
   "cell_type": "code",
   "outputs": [],
   "source": [
    "from openai import OpenAI\n",
    "import os\n",
    "\n",
    "from dotenv import load_dotenv\n",
    "load_dotenv()\n",
    "\n",
    "client = OpenAI(\n",
    "    api_key=os.environ.get(\"OPENAI_API_KEY\"),\n",
    ")\n",
    "\n",
    "user_prompt = \"\"\"\n",
    "  I'm learning openAI api, could you explain how to use the parameters for usage? You can find the documentation at https://platform.openai.com/docs/api-reference/chat\n",
    "\"\"\"\n",
    "\n",
    "response = client.chat.completions.create(\n",
    "  messages=[        \n",
    "         {\"role\": \"user\", \"content\": f\"{user_prompt}\"},\n",
    "    ],\n",
    "    model=\"gpt-4-0125-preview\",\n",
    "    temperature=0\n",
    ")\n",
    "\n",
    "print(response.choices[0].message.content)"
   ],
   "metadata": {
    "collapsed": false,
    "is_executing": true,
    "ExecuteTime": {
     "start_time": "2024-03-26T01:01:24.939057Z"
    }
   },
   "execution_count": null
  },
  {
   "cell_type": "code",
   "outputs": [],
   "source": [],
   "metadata": {
    "collapsed": false,
    "is_executing": true
   }
  }
 ],
 "metadata": {
  "kernelspec": {
   "display_name": "Python 3",
   "language": "python",
   "name": "python3"
  },
  "language_info": {
   "codemirror_mode": {
    "name": "ipython",
    "version": 3
   },
   "file_extension": ".py",
   "mimetype": "text/x-python",
   "name": "python",
   "nbconvert_exporter": "python",
   "pygments_lexer": "ipython3",
   "version": "3.8.5"
  }
 },
 "nbformat": 4,
 "nbformat_minor": 4
}
